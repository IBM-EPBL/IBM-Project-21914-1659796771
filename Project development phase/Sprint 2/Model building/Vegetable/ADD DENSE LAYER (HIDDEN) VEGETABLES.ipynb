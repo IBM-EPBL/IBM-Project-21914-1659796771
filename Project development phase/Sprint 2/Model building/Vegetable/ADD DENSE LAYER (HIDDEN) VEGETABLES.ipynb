{
 "cells": [
  {
   "cell_type": "markdown",
   "id": "73be3b4b",
   "metadata": {},
   "source": [
    "VEGETABLE DATASET"
   ]
  },
  {
   "cell_type": "markdown",
   "id": "d0afe6c2",
   "metadata": {},
   "source": [
    "1.IMPORT LIBRARIES"
   ]
  },
  {
   "cell_type": "code",
   "execution_count": 1,
   "id": "14fdf065",
   "metadata": {},
   "outputs": [],
   "source": [
    "import tensorflow as tf\n",
    "from tensorflow.keras import models, layers\n",
    "import matplotlib.pyplot as plt\n",
    "from IPython.display import HTML\n",
    "import pandas as pd\n",
    "import warnings\n",
    "warnings.filterwarnings('ignore')"
   ]
  },
  {
   "cell_type": "code",
   "execution_count": 2,
   "id": "52bdef15",
   "metadata": {},
   "outputs": [],
   "source": [
    "from tensorflow.keras.preprocessing.image import ImageDataGenerator\n",
    "from keras.models import Sequential\n",
    "from keras.layers import Dense\n",
    "from keras.layers import Convolution2D\n",
    "from keras.layers import MaxPooling2D\n",
    "from keras.layers import Flatten"
   ]
  },
  {
   "cell_type": "code",
   "execution_count": 3,
   "id": "15e71941",
   "metadata": {},
   "outputs": [],
   "source": [
    "from tensorflow.keras.models import load_model\n",
    "from tensorflow.keras.preprocessing import image \n",
    "import numpy as np"
   ]
  },
  {
   "cell_type": "markdown",
   "id": "4e87daf3",
   "metadata": {},
   "source": [
    "2.IMAGE PROCESSING"
   ]
  },
  {
   "cell_type": "code",
   "execution_count": 4,
   "id": "61996847",
   "metadata": {},
   "outputs": [],
   "source": [
    "train_datagen=ImageDataGenerator(rescale=1./255,horizontal_flip=True,vertical_flip=True,zoom_range=0.2)"
   ]
  },
  {
   "cell_type": "code",
   "execution_count": 5,
   "id": "656b9efd",
   "metadata": {},
   "outputs": [],
   "source": [
    "test_datagen=ImageDataGenerator(rescale=1./255)"
   ]
  },
  {
   "cell_type": "code",
   "execution_count": 6,
   "id": "39bdb858",
   "metadata": {},
   "outputs": [],
   "source": [
    "Fertilizers=\"C:/Users/Sonakshi/Downloads/Fertilizers_Recommendation_ System_For_Disease_ Prediction\""
   ]
  },
  {
   "cell_type": "code",
   "execution_count": 7,
   "id": "2334a35d",
   "metadata": {},
   "outputs": [
    {
     "name": "stdout",
     "output_type": "stream",
     "text": [
      "Found 14802 images belonging to 1 classes.\n"
     ]
    }
   ],
   "source": [
    "x_train=train_datagen.flow_from_directory(r\"C:/Users/Sonakshi/Downloads/Fertilizers_Recommendation_ System_For_Disease_ Prediction/Dataset Plant Disease/Veg-dataset\",target_size=(64,64),\n",
    "                                                            class_mode=\"categorical\",batch_size=24)"
   ]
  },
  {
   "cell_type": "code",
   "execution_count": 8,
   "id": "003e27b6",
   "metadata": {},
   "outputs": [
    {
     "name": "stdout",
     "output_type": "stream",
     "text": [
      "Found 14802 images belonging to 1 classes.\n"
     ]
    }
   ],
   "source": [
    "x_test=test_datagen.flow_from_directory(r\"C:/Users/Sonakshi/Downloads/Fertilizers_Recommendation_ System_For_Disease_ Prediction/Dataset Plant Disease/Veg-dataset\",target_size=(64,64),\n",
    "                                                            class_mode=\"categorical\",batch_size=24)"
   ]
  },
  {
   "cell_type": "markdown",
   "id": "eeca2a77",
   "metadata": {},
   "source": [
    "3.INITIALIZE MODEL"
   ]
  },
  {
   "cell_type": "code",
   "execution_count": 9,
   "id": "830a799e",
   "metadata": {},
   "outputs": [],
   "source": [
    "model=Sequential()"
   ]
  },
  {
   "cell_type": "markdown",
   "id": "8a64b124",
   "metadata": {},
   "source": [
    "4.CREATE MODEL: ADD LAYERS (CONVOLUTION 2D,MAXPOOLING 2D,FLATTEN)"
   ]
  },
  {
   "cell_type": "code",
   "execution_count": 10,
   "id": "6ba0458f",
   "metadata": {},
   "outputs": [],
   "source": [
    "model.add(Convolution2D(32,(3,3),activation=\"relu\",input_shape=(64,64,3)))"
   ]
  },
  {
   "cell_type": "code",
   "execution_count": 11,
   "id": "c8c3c73d",
   "metadata": {},
   "outputs": [],
   "source": [
    "model.add(MaxPooling2D(pool_size=(2,2)))"
   ]
  },
  {
   "cell_type": "code",
   "execution_count": 12,
   "id": "9b946928",
   "metadata": {},
   "outputs": [],
   "source": [
    "model.add(Flatten())"
   ]
  },
  {
   "cell_type": "markdown",
   "id": "201a0425",
   "metadata": {},
   "source": [
    "5.DENSE LAYERS"
   ]
  },
  {
   "cell_type": "code",
   "execution_count": 13,
   "id": "de22f469",
   "metadata": {},
   "outputs": [],
   "source": [
    "model.add(Dense(300,activation='relu'))"
   ]
  },
  {
   "cell_type": "code",
   "execution_count": 14,
   "id": "2a8076c6",
   "metadata": {},
   "outputs": [],
   "source": [
    "model.add(Dense(1,activation=\"softmax\"))"
   ]
  }
 ],
 "metadata": {
  "kernelspec": {
   "display_name": "Python 3 (ipykernel)",
   "language": "python",
   "name": "python3"
  },
  "language_info": {
   "codemirror_mode": {
    "name": "ipython",
    "version": 3
   },
   "file_extension": ".py",
   "mimetype": "text/x-python",
   "name": "python",
   "nbconvert_exporter": "python",
   "pygments_lexer": "ipython3",
   "version": "3.9.13"
  }
 },
 "nbformat": 4,
 "nbformat_minor": 5
}
